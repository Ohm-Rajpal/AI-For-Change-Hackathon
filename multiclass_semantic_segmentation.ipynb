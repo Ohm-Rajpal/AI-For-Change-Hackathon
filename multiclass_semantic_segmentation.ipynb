{
 "cells": [
  {
   "cell_type": "code",
   "id": "initial_id",
   "metadata": {
    "collapsed": true,
    "ExecuteTime": {
     "end_time": "2024-07-07T22:13:51.204344Z",
     "start_time": "2024-07-07T22:13:46.513730Z"
    }
   },
   "source": [
    "import os\n",
    "import cv2\n",
    "import numpy as np\n",
    "import tensorflow as tf\n",
    "from keras import Input, Model\n",
    "from keras.utils import to_categorical\n",
    "from keras.layers import Conv2D, BatchNormalization, Activation, MaxPooling2D, Conv2DTranspose, Concatenate, Dropout, \\\n",
    "    concatenate\n",
    "from sklearn.preprocessing import normalize\n",
    "from sklearn.model_selection import train_test_split\n",
    "import glob\n",
    "import matplotlib.pyplot as plt\n",
    "import random"
   ],
   "outputs": [],
   "execution_count": 1
  },
  {
   "metadata": {},
   "cell_type": "markdown",
   "source": "### Enable memory growth in GPU",
   "id": "1e9a67b85eca9ebc"
  },
  {
   "metadata": {
    "ExecuteTime": {
     "end_time": "2024-07-07T22:14:12.095296Z",
     "start_time": "2024-07-07T22:14:12.013005Z"
    }
   },
   "cell_type": "code",
   "source": [
    "gpus = tf.config.experimental.list_physical_devices('GPU')\n",
    "if gpus:\n",
    "    try:\n",
    "        for gpu in gpus:\n",
    "            tf.config.experimental.set_memory_growth(gpu, True)\n",
    "    except RuntimeError as e:\n",
    "        print(e)"
   ],
   "id": "52871c9aa522f1fe",
   "outputs": [],
   "execution_count": 2
  },
  {
   "metadata": {},
   "cell_type": "markdown",
   "source": "### Constants",
   "id": "26350c2863e74c5b"
  },
  {
   "metadata": {
    "ExecuteTime": {
     "end_time": "2024-07-07T22:14:13.692050Z",
     "start_time": "2024-07-07T22:14:13.678630Z"
    }
   },
   "cell_type": "code",
   "source": [
    "WIDTH = 128\n",
    "HEIGHT = 128\n",
    "NUM_CLASSES = 8\n",
    "beach_litter_path = 'Beach Cleanup Dataset/beachlitter_dataset_2022/beachlitter'\n",
    "images_path = beach_litter_path + '/images' # These are jpgs\n",
    "masks_path = beach_litter_path + '/maskpngs' # These are pngs"
   ],
   "id": "6a8290068030157f",
   "outputs": [],
   "execution_count": 3
  },
  {
   "metadata": {},
   "cell_type": "markdown",
   "source": "### Convert image and mask data into numpy arrays",
   "id": "cda836e41937cf15"
  },
  {
   "metadata": {
    "ExecuteTime": {
     "end_time": "2024-07-07T22:14:14.601792Z",
     "start_time": "2024-07-07T22:14:14.588776Z"
    }
   },
   "cell_type": "code",
   "source": [
    "def data_to_numpy_arr():\n",
    "    # Iterate over every file in the directory, resize, append to array\n",
    "    images_arr = []\n",
    "    mask_arr = []\n",
    "    \n",
    "    image_files = glob.glob(images_path + '/*')\n",
    "    mask_files = glob.glob(masks_path + '/*')\n",
    "    \n",
    "    # black and white for now    \n",
    "    [images_arr.append(normalize(cv2.resize(cv2.imread(image_file, 0), (HEIGHT, WIDTH)), axis=1)) for image_file in image_files]\n",
    "    [mask_arr.append(normalize(cv2.resize(cv2.imread(mask_file, 0), (HEIGHT, WIDTH)), axis=1)) for mask_file in mask_files]\n",
    "\n",
    "    return np.array(images_arr), np.array(mask_arr)"
   ],
   "id": "f5b028c07d082673",
   "outputs": [],
   "execution_count": 4
  },
  {
   "metadata": {
    "ExecuteTime": {
     "end_time": "2024-07-07T22:14:36.913487Z",
     "start_time": "2024-07-07T22:14:15.051638Z"
    }
   },
   "cell_type": "code",
   "source": "images_arr, mask_arr = data_to_numpy_arr()",
   "id": "e9f598337aa9919b",
   "outputs": [],
   "execution_count": 5
  },
  {
   "metadata": {
    "ExecuteTime": {
     "end_time": "2024-07-07T22:14:36.928509Z",
     "start_time": "2024-07-07T22:14:36.914489Z"
    }
   },
   "cell_type": "code",
   "source": [
    "print(f'Images array shape {images_arr.shape}')\n",
    "print(f'Mask array shape {mask_arr.shape}')\n",
    "print()\n",
    "print(f'Images array type {images_arr.dtype}')\n",
    "print(f'Mask array type {mask_arr.dtype}')"
   ],
   "id": "116ab0f21f6463f1",
   "outputs": [
    {
     "name": "stdout",
     "output_type": "stream",
     "text": [
      "Images array shape (3500, 128, 128)\n",
      "Mask array shape (3500, 128, 128)\n",
      "\n",
      "Images array type float64\n",
      "Mask array type float64\n"
     ]
    }
   ],
   "execution_count": 6
  },
  {
   "metadata": {
    "ExecuteTime": {
     "end_time": "2024-07-07T22:14:38.362447Z",
     "start_time": "2024-07-07T22:14:36.929509Z"
    }
   },
   "cell_type": "code",
   "source": "np.unique(mask_arr).shape",
   "id": "d6605f026492c563",
   "outputs": [
    {
     "data": {
      "text/plain": [
       "(1293247,)"
      ]
     },
     "execution_count": 7,
     "metadata": {},
     "output_type": "execute_result"
    }
   ],
   "execution_count": 7
  },
  {
   "metadata": {},
   "cell_type": "markdown",
   "source": "### Visualization after processing",
   "id": "28e4f9eda4b28e3"
  },
  {
   "metadata": {
    "ExecuteTime": {
     "end_time": "2024-07-07T22:14:38.377943Z",
     "start_time": "2024-07-07T22:14:38.363435Z"
    }
   },
   "cell_type": "code",
   "source": [
    "def visualize_random_image_pair():\n",
    "    random_index = np.random.randint(0, len(images_arr))\n",
    "    random_image = images_arr[random_index]\n",
    "    random_mask = mask_arr[random_index]\n",
    "    \n",
    "    fig, (ax1, ax2) = plt.subplots(1, 2, figsize=[12, 8])\n",
    "\n",
    "    fig.suptitle('Random image and mask pair')\n",
    "    ax1.imshow(random_image)\n",
    "    ax2.imshow(random_mask)\n",
    "    \n",
    "    plt.show()"
   ],
   "id": "251d367a5380a198",
   "outputs": [],
   "execution_count": 8
  },
  {
   "metadata": {
    "ExecuteTime": {
     "end_time": "2024-07-07T22:14:38.677988Z",
     "start_time": "2024-07-07T22:14:38.378944Z"
    }
   },
   "cell_type": "code",
   "source": "visualize_random_image_pair()",
   "id": "4f903032137397b0",
   "outputs": [
    {
     "data": {
      "text/plain": [
       "<Figure size 1200x800 with 2 Axes>"
      ],
      "image/png": "[encoded data removed]"
     },
     "metadata": {},
     "output_type": "display_data"
    }
   ],
   "execution_count": 9
  },
  {
   "metadata": {},
   "cell_type": "markdown",
   "source": "### Reshape so data compatible with neural network",
   "id": "53d5ee1b0defd0a5"
  },
  {
   "metadata": {
    "ExecuteTime": {
     "end_time": "2024-07-07T22:14:38.693500Z",
     "start_time": "2024-07-07T22:14:38.678989Z"
    }
   },
   "cell_type": "code",
   "source": [
    "# expand dimensions\n",
    "images_arr = np.expand_dims(images_arr, axis=3)\n",
    "mask_arr = np.expand_dims(mask_arr, axis=3)\n",
    "\n",
    "print(f'Resized images array shape {images_arr.shape}')\n",
    "print(f'Resized mask array shape {mask_arr.shape}')"
   ],
   "id": "a0380dbe84a80754",
   "outputs": [
    {
     "name": "stdout",
     "output_type": "stream",
     "text": [
      "Resized images array shape (3500, 128, 128, 1)\n",
      "Resized mask array shape (3500, 128, 128, 1)\n"
     ]
    }
   ],
   "execution_count": 10
  },
  {
   "metadata": {},
   "cell_type": "markdown",
   "source": "### Train test split",
   "id": "ee3df8831e4bd3"
  },
  {
   "metadata": {
    "ExecuteTime": {
     "end_time": "2024-07-07T22:14:38.913148Z",
     "start_time": "2024-07-07T22:14:38.694500Z"
    }
   },
   "cell_type": "code",
   "source": [
    "X_train, X_temp, y_train, y_temp = train_test_split(images_arr, mask_arr, train_size=0.8, random_state=1)  \n",
    "X_val, X_test, y_val, y_test = train_test_split(X_temp, y_temp, test_size=0.5, random_state=1) "
   ],
   "id": "11434ac8eca3546a",
   "outputs": [],
   "execution_count": 11
  },
  {
   "metadata": {
    "ExecuteTime": {
     "end_time": "2024-07-07T22:14:38.928226Z",
     "start_time": "2024-07-07T22:14:38.914161Z"
    }
   },
   "cell_type": "code",
   "source": [
    "print(f'X_train {X_train.shape} \\t y_train {y_train.shape}')\n",
    "print(f'X_val {X_val.shape} \\t y_val {y_val.shape}')\n",
    "print(f'X_test {X_test.shape} \\t y_test {y_test.shape}')"
   ],
   "id": "c81f7f14867fd530",
   "outputs": [
    {
     "name": "stdout",
     "output_type": "stream",
     "text": [
      "X_train (2800, 128, 128, 1) \t y_train (2800, 128, 128, 1)\n",
      "X_val (350, 128, 128, 1) \t y_val (350, 128, 128, 1)\n",
      "X_test (350, 128, 128, 1) \t y_test (350, 128, 128, 1)\n"
     ]
    }
   ],
   "execution_count": 12
  },
  {
   "metadata": {
    "ExecuteTime": {
     "end_time": "2024-07-07T22:14:39.660134Z",
     "start_time": "2024-07-07T22:14:38.929161Z"
    }
   },
   "cell_type": "code",
   "source": [
    "# add correct number of classes to the input array\n",
    "y_train_cat = to_categorical(y_train, NUM_CLASSES)\n",
    "y_test_cat = to_categorical(y_test, NUM_CLASSES)\n",
    "y_val_cat = to_categorical(y_val, NUM_CLASSES)\n",
    "print(f'y_train_cat {y_train_cat.shape}')\n",
    "print(f'y_val_cat {y_val_cat.shape}')\n",
    "print(f'y_test_cat {y_test_cat.shape}')"
   ],
   "id": "d6c95323ad51092b",
   "outputs": [
    {
     "name": "stdout",
     "output_type": "stream",
     "text": [
      "y_train_cat (2800, 128, 128, 8)\n",
      "y_val_cat (350, 128, 128, 8)\n",
      "y_test_cat (350, 128, 128, 8)\n"
     ]
    }
   ],
   "execution_count": 13
  },
  {
   "metadata": {},
   "cell_type": "markdown",
   "source": "### Get model ready",
   "id": "b1b57d8cd99fa16"
  },
  {
   "metadata": {
    "ExecuteTime": {
     "end_time": "2024-07-07T22:14:39.675641Z",
     "start_time": "2024-07-07T22:14:39.661132Z"
    }
   },
   "cell_type": "code",
   "source": [
    "def unet_model(n_classes=8, IMG_HEIGHT=128, IMG_WIDTH=128, IMG_CHANNELS=1):\n",
    "    # Build the model\n",
    "    inputs = Input((IMG_HEIGHT, IMG_WIDTH, IMG_CHANNELS))\n",
    "    s = inputs\n",
    "\n",
    "    # Contraction path\n",
    "    c1 = Conv2D(16, (3, 3), activation='relu', kernel_initializer='he_normal', padding='same')(s)\n",
    "    c1 = Dropout(0.1)(c1)\n",
    "    c1 = Conv2D(16, (3, 3), activation='relu', kernel_initializer='he_normal', padding='same')(c1)\n",
    "    p1 = MaxPooling2D((2, 2))(c1)\n",
    "\n",
    "    c2 = Conv2D(32, (3, 3), activation='relu', kernel_initializer='he_normal', padding='same')(p1)\n",
    "    c2 = Dropout(0.1)(c2)\n",
    "    c2 = Conv2D(32, (3, 3), activation='relu', kernel_initializer='he_normal', padding='same')(c2)\n",
    "    p2 = MaxPooling2D((2, 2))(c2)\n",
    "\n",
    "    c3 = Conv2D(64, (3, 3), activation='relu', kernel_initializer='he_normal', padding='same')(p2)\n",
    "    c3 = Dropout(0.2)(c3)\n",
    "    c3 = Conv2D(64, (3, 3), activation='relu', kernel_initializer='he_normal', padding='same')(c3)\n",
    "    p3 = MaxPooling2D((2, 2))(c3)\n",
    "\n",
    "    c4 = Conv2D(128, (3, 3), activation='relu', kernel_initializer='he_normal', padding='same')(p3)\n",
    "    c4 = Dropout(0.2)(c4)\n",
    "    c4 = Conv2D(128, (3, 3), activation='relu', kernel_initializer='he_normal', padding='same')(c4)\n",
    "    p4 = MaxPooling2D(pool_size=(2, 2))(c4)\n",
    "\n",
    "    c5 = Conv2D(256, (3, 3), activation='relu', kernel_initializer='he_normal', padding='same')(p4)\n",
    "    c5 = Dropout(0.3)(c5)\n",
    "    c5 = Conv2D(256, (3, 3), activation='relu', kernel_initializer='he_normal', padding='same')(c5)\n",
    "\n",
    "    # Expansive path\n",
    "    u6 = Conv2DTranspose(128, (2, 2), strides=(2, 2), padding='same')(c5)\n",
    "    u6 = concatenate([u6, c4])\n",
    "    c6 = Conv2D(128, (3, 3), activation='relu', kernel_initializer='he_normal', padding='same')(u6)\n",
    "    c6 = Dropout(0.2)(c6)\n",
    "    c6 = Conv2D(128, (3, 3), activation='relu', kernel_initializer='he_normal', padding='same')(c6)\n",
    "\n",
    "    u7 = Conv2DTranspose(64, (2, 2), strides=(2, 2), padding='same')(c6)\n",
    "    u7 = concatenate([u7, c3])\n",
    "    c7 = Conv2D(64, (3, 3), activation='relu', kernel_initializer='he_normal', padding='same')(u7)\n",
    "    c7 = Dropout(0.2)(c7)\n",
    "    c7 = Conv2D(64, (3, 3), activation='relu', kernel_initializer='he_normal', padding='same')(c7)\n",
    "\n",
    "    u8 = Conv2DTranspose(32, (2, 2), strides=(2, 2), padding='same')(c7)\n",
    "    u8 = concatenate([u8, c2])\n",
    "    c8 = Conv2D(32, (3, 3), activation='relu', kernel_initializer='he_normal', padding='same')(u8)\n",
    "    c8 = Dropout(0.1)(c8)\n",
    "    c8 = Conv2D(32, (3, 3), activation='relu', kernel_initializer='he_normal', padding='same')(c8)\n",
    "\n",
    "    u9 = Conv2DTranspose(16, (2, 2), strides=(2, 2), padding='same')(c8)\n",
    "    u9 = concatenate([u9, c1], axis=3)\n",
    "    c9 = Conv2D(16, (3, 3), activation='relu', kernel_initializer='he_normal', padding='same')(u9)\n",
    "    c9 = Dropout(0.1)(c9)\n",
    "    c9 = Conv2D(16, (3, 3), activation='relu', kernel_initializer='he_normal', padding='same')(c9)\n",
    "\n",
    "    outputs = Conv2D(n_classes, (1, 1), activation='softmax')(c9)\n",
    "\n",
    "    model = Model(inputs=[inputs], outputs=[outputs])\n",
    "\n",
    "    return model"
   ],
   "id": "e27399cd75218158",
   "outputs": [],
   "execution_count": 14
  },
  {
   "metadata": {
    "ExecuteTime": {
     "end_time": "2024-07-07T22:14:40.590835Z",
     "start_time": "2024-07-07T22:14:39.676642Z"
    }
   },
   "cell_type": "code",
   "source": [
    "model = unet_model(8, 128, 128, 1)\n",
    "model.compile(optimizer='adam', loss='categorical_crossentropy', metrics=['accuracy'])\n",
    "model.summary()"
   ],
   "id": "4b27ca936b91f5fa",
   "outputs": [
    {
     "name": "stdout",
     "output_type": "stream",
     "text": [
      "Model: \"model\"\n",
      "__________________________________________________________________________________________________\n",
      " Layer (type)                   Output Shape         Param #     Connected to                     \n",
      "==================================================================================================\n",
      " input_1 (InputLayer)           [(None, 128, 128, 1  0           []                               \n",
      "                                )]                                                                \n",
      "                                                                                                  \n",
      " conv2d (Conv2D)                (None, 128, 128, 16  160         ['input_1[0][0]']                \n",
      "                                )                                                                 \n",
      "                                                                                                  \n",
      " dropout (Dropout)              (None, 128, 128, 16  0           ['conv2d[0][0]']                 \n",
      "                                )                                                                 \n",
      "                                                                                                  \n",
      " conv2d_1 (Conv2D)              (None, 128, 128, 16  2320        ['dropout[0][0]']                \n",
      "                                )                                                                 \n",
      "                                                                                                  \n",
      " max_pooling2d (MaxPooling2D)   (None, 64, 64, 16)   0           ['conv2d_1[0][0]']               \n",
      "                                                                                                  \n",
      " conv2d_2 (Conv2D)              (None, 64, 64, 32)   4640        ['max_pooling2d[0][0]']          \n",
      "                                                                                                  \n",
      " dropout_1 (Dropout)            (None, 64, 64, 32)   0           ['conv2d_2[0][0]']               \n",
      "                                                                                                  \n",
      " conv2d_3 (Conv2D)              (None, 64, 64, 32)   9248        ['dropout_1[0][0]']              \n",
      "                                                                                                  \n",
      " max_pooling2d_1 (MaxPooling2D)  (None, 32, 32, 32)  0           ['conv2d_3[0][0]']               \n",
      "                                                                                                  \n",
      " conv2d_4 (Conv2D)              (None, 32, 32, 64)   18496       ['max_pooling2d_1[0][0]']        \n",
      "                                                                                                  \n",
      " dropout_2 (Dropout)            (None, 32, 32, 64)   0           ['conv2d_4[0][0]']               \n",
      "                                                                                                  \n",
      " conv2d_5 (Conv2D)              (None, 32, 32, 64)   36928       ['dropout_2[0][0]']              \n",
      "                                                                                                  \n",
      " max_pooling2d_2 (MaxPooling2D)  (None, 16, 16, 64)  0           ['conv2d_5[0][0]']               \n",
      "                                                                                                  \n",
      " conv2d_6 (Conv2D)              (None, 16, 16, 128)  73856       ['max_pooling2d_2[0][0]']        \n",
      "                                                                                                  \n",
      " dropout_3 (Dropout)            (None, 16, 16, 128)  0           ['conv2d_6[0][0]']               \n",
      "                                                                                                  \n",
      " conv2d_7 (Conv2D)              (None, 16, 16, 128)  147584      ['dropout_3[0][0]']              \n",
      "                                                                                                  \n",
      " max_pooling2d_3 (MaxPooling2D)  (None, 8, 8, 128)   0           ['conv2d_7[0][0]']               \n",
      "                                                                                                  \n",
      " conv2d_8 (Conv2D)              (None, 8, 8, 256)    295168      ['max_pooling2d_3[0][0]']        \n",
      "                                                                                                  \n",
      " dropout_4 (Dropout)            (None, 8, 8, 256)    0           ['conv2d_8[0][0]']               \n",
      "                                                                                                  \n",
      " conv2d_9 (Conv2D)              (None, 8, 8, 256)    590080      ['dropout_4[0][0]']              \n",
      "                                                                                                  \n",
      " conv2d_transpose (Conv2DTransp  (None, 16, 16, 128)  131200     ['conv2d_9[0][0]']               \n",
      " ose)                                                                                             \n",
      "                                                                                                  \n",
      " concatenate (Concatenate)      (None, 16, 16, 256)  0           ['conv2d_transpose[0][0]',       \n",
      "                                                                  'conv2d_7[0][0]']               \n",
      "                                                                                                  \n",
      " conv2d_10 (Conv2D)             (None, 16, 16, 128)  295040      ['concatenate[0][0]']            \n",
      "                                                                                                  \n",
      " dropout_5 (Dropout)            (None, 16, 16, 128)  0           ['conv2d_10[0][0]']              \n",
      "                                                                                                  \n",
      " conv2d_11 (Conv2D)             (None, 16, 16, 128)  147584      ['dropout_5[0][0]']              \n",
      "                                                                                                  \n",
      " conv2d_transpose_1 (Conv2DTran  (None, 32, 32, 64)  32832       ['conv2d_11[0][0]']              \n",
      " spose)                                                                                           \n",
      "                                                                                                  \n",
      " concatenate_1 (Concatenate)    (None, 32, 32, 128)  0           ['conv2d_transpose_1[0][0]',     \n",
      "                                                                  'conv2d_5[0][0]']               \n",
      "                                                                                                  \n",
      " conv2d_12 (Conv2D)             (None, 32, 32, 64)   73792       ['concatenate_1[0][0]']          \n",
      "                                                                                                  \n",
      " dropout_6 (Dropout)            (None, 32, 32, 64)   0           ['conv2d_12[0][0]']              \n",
      "                                                                                                  \n",
      " conv2d_13 (Conv2D)             (None, 32, 32, 64)   36928       ['dropout_6[0][0]']              \n",
      "                                                                                                  \n",
      " conv2d_transpose_2 (Conv2DTran  (None, 64, 64, 32)  8224        ['conv2d_13[0][0]']              \n",
      " spose)                                                                                           \n",
      "                                                                                                  \n",
      " concatenate_2 (Concatenate)    (None, 64, 64, 64)   0           ['conv2d_transpose_2[0][0]',     \n",
      "                                                                  'conv2d_3[0][0]']               \n",
      "                                                                                                  \n",
      " conv2d_14 (Conv2D)             (None, 64, 64, 32)   18464       ['concatenate_2[0][0]']          \n",
      "                                                                                                  \n",
      " dropout_7 (Dropout)            (None, 64, 64, 32)   0           ['conv2d_14[0][0]']              \n",
      "                                                                                                  \n",
      " conv2d_15 (Conv2D)             (None, 64, 64, 32)   9248        ['dropout_7[0][0]']              \n",
      "                                                                                                  \n",
      " conv2d_transpose_3 (Conv2DTran  (None, 128, 128, 16  2064       ['conv2d_15[0][0]']              \n",
      " spose)                         )                                                                 \n",
      "                                                                                                  \n",
      " concatenate_3 (Concatenate)    (None, 128, 128, 32  0           ['conv2d_transpose_3[0][0]',     \n",
      "                                )                                 'conv2d_1[0][0]']               \n",
      "                                                                                                  \n",
      " conv2d_16 (Conv2D)             (None, 128, 128, 16  4624        ['concatenate_3[0][0]']          \n",
      "                                )                                                                 \n",
      "                                                                                                  \n",
      " dropout_8 (Dropout)            (None, 128, 128, 16  0           ['conv2d_16[0][0]']              \n",
      "                                )                                                                 \n",
      "                                                                                                  \n",
      " conv2d_17 (Conv2D)             (None, 128, 128, 16  2320        ['dropout_8[0][0]']              \n",
      "                                )                                                                 \n",
      "                                                                                                  \n",
      " conv2d_18 (Conv2D)             (None, 128, 128, 8)  136         ['conv2d_17[0][0]']              \n",
      "                                                                                                  \n",
      "==================================================================================================\n",
      "Total params: 1,940,936\n",
      "Trainable params: 1,940,936\n",
      "Non-trainable params: 0\n",
      "__________________________________________________________________________________________________\n"
     ]
    }
   ],
   "execution_count": 15
  },
  {
   "metadata": {},
   "cell_type": "markdown",
   "source": "### Hyperparameters",
   "id": "167709afeaab9518"
  },
  {
   "metadata": {
    "ExecuteTime": {
     "end_time": "2024-07-07T22:14:53.741671Z",
     "start_time": "2024-07-07T22:14:53.733664Z"
    }
   },
   "cell_type": "code",
   "source": [
    "BATCH_SIZE = 2\n",
    "EPOCHS = 3"
   ],
   "id": "2a9bee9ab3e21835",
   "outputs": [],
   "execution_count": 16
  },
  {
   "metadata": {
    "ExecuteTime": {
     "end_time": "2024-07-07T22:15:31.983481Z",
     "start_time": "2024-07-07T22:14:54.650882Z"
    }
   },
   "cell_type": "code",
   "source": "history = model.fit(X_train, y_train_cat, batch_size=BATCH_SIZE, verbose=1, epochs=EPOCHS, validation_data=(X_test, y_test_cat)) ",
   "id": "f855888dcba2480c",
   "outputs": [
    {
     "name": "stdout",
     "output_type": "stream",
     "text": [
      "Epoch 1/3\n",
      "1400/1400 [==============================] - 15s 8ms/step - loss: 0.0065 - accuracy: 0.9977 - val_loss: 1.8917e-07 - val_accuracy: 1.0000\n",
      "Epoch 2/3\n",
      "1400/1400 [==============================] - 11s 8ms/step - loss: 9.9441e-08 - accuracy: 1.0000 - val_loss: 1.2429e-08 - val_accuracy: 1.0000\n",
      "Epoch 3/3\n",
      "1400/1400 [==============================] - 11s 8ms/step - loss: 3.0456e-08 - accuracy: 1.0000 - val_loss: 4.8709e-09 - val_accuracy: 1.0000\n"
     ]
    }
   ],
   "execution_count": 17
  },
  {
   "metadata": {},
   "cell_type": "code",
   "source": "",
   "id": "b591fdc28c882e19",
   "outputs": [],
   "execution_count": null
  },
  {
   "metadata": {},
   "cell_type": "code",
   "source": [
    "# import tensorflow as tf\n",
    "# \n",
    "# print(\"Num GPUs Available: \", len(tf.config.experimental.list_physical_devices('GPU')))\n"
   ],
   "id": "c1f3337f31479dac",
   "outputs": [],
   "execution_count": null
  },
  {
   "metadata": {},
   "cell_type": "code",
   "source": "",
   "id": "f1922509334d8b9f",
   "outputs": [],
   "execution_count": null
  },
  {
   "metadata": {},
   "cell_type": "code",
   "source": "",
   "id": "efa3334126c0e4c0",
   "outputs": [],
   "execution_count": null
  }
 ],
 "metadata": {
  "kernelspec": {
   "display_name": "Python 3",
   "language": "python",
   "name": "python3"
  },
  "language_info": {
   "codemirror_mode": {
    "name": "ipython",
    "version": 2
   },
   "file_extension": ".py",
   "mimetype": "text/x-python",
   "name": "python",
   "nbconvert_exporter": "python",
   "pygments_lexer": "ipython2",
   "version": "2.7.6"
  }
 },
 "nbformat": 4,
 "nbformat_minor": 5
}
